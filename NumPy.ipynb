{
 "cells": [
  {
   "cell_type": "code",
   "execution_count": 1,
   "id": "2988cd98-8c53-431c-a788-03431bf0dc37",
   "metadata": {},
   "outputs": [
    {
     "name": "stdout",
     "output_type": "stream",
     "text": [
      "Original array:\n",
      "[[23 94 65]\n",
      " [99 86 75]\n",
      " [14 28 55]]\n",
      "\n",
      "Interchanged array (rows and columns swapped):\n",
      "[[23 99 14]\n",
      " [94 86 28]\n",
      " [65 75 55]]\n"
     ]
    }
   ],
   "source": [
    "##Ques:-1. Create a 3x3 NumPy array with random integers between 1 and 100. Then, interchange its rows and columns.\n",
    "#Ans:-Let's Create a 3x3 NumPy array with random integers between 1 and 100, and then interchange its rows and columns:-\n",
    "\n",
    "import numpy as np\n",
    "\n",
    "# Create a 3x3 array with random integers between 1 and 100\n",
    "random_array = np.random.randint(low=1, high=101, size=(3, 3))\n",
    "\n",
    "print(\"Original array:\")\n",
    "print(random_array)\n",
    "\n",
    "# Interchange rows and columns (transpose the array)\n",
    "interchanged_array = random_array.T\n",
    "\n",
    "print(\"\\nInterchanged array (rows and columns swapped):\")\n",
    "print(interchanged_array)\n"
   ]
  },
  {
   "cell_type": "code",
   "execution_count": 2,
   "id": "7c8aff8f-1330-4574-b87f-d6cf1af0bbaa",
   "metadata": {},
   "outputs": [
    {
     "name": "stdout",
     "output_type": "stream",
     "text": [
      "1D array:\n",
      "[0 1 2 3 4 5 6 7 8 9]\n",
      "\n",
      "2x5 array:\n",
      "[[0 1 2 3 4]\n",
      " [5 6 7 8 9]]\n",
      "\n",
      "5x2 array:\n",
      "[[0 1]\n",
      " [2 3]\n",
      " [4 5]\n",
      " [6 7]\n",
      " [8 9]]\n"
     ]
    }
   ],
   "source": [
    "##2. Generate a 1D NumPy array with 10 elements. Reshape it into a 2x5 array, then into a 5x2 array.\n",
    "#Ans:- Let’s create that NumPy array and perform the reshaping steps:\n",
    "\n",
    "#Generate a 1D NumPy array with 10 elements:\n",
    "\n",
    "import numpy as np\n",
    "\n",
    "# Create a 1D array with 10 elements\n",
    "array = np.arange(10)\n",
    "\n",
    "#Reshape into a 2x5 array:\n",
    "reshaped_2x5 = array.reshape(2, 5)\n",
    "\n",
    "#Reshape into a 5x2 array:\n",
    "reshaped_5x2 = array.reshape(5, 2)\n",
    "\n",
    "print(\"1D array:\")\n",
    "print(array)\n",
    "print(\"\\n2x5 array:\")\n",
    "print(reshaped_2x5)\n",
    "print(\"\\n5x2 array:\")\n",
    "print(reshaped_5x2)"
   ]
  },
  {
   "cell_type": "code",
   "execution_count": 3,
   "id": "3e64dc4b-fca3-4158-a10e-e2441c65f188",
   "metadata": {},
   "outputs": [
    {
     "name": "stdout",
     "output_type": "stream",
     "text": [
      "Original 4x4 array:\n",
      "[[0.22481333 0.20219705 0.0251414  0.7986357 ]\n",
      " [0.64118329 0.51454286 0.24453364 0.62710732]\n",
      " [0.93553373 0.28294576 0.01383507 0.62596739]\n",
      " [0.50861795 0.78121749 0.20533734 0.26891731]]\n",
      "\n",
      "6x6 array with zeros border:\n",
      "[[0.         0.         0.         0.         0.         0.        ]\n",
      " [0.         0.22481333 0.20219705 0.0251414  0.7986357  0.        ]\n",
      " [0.         0.64118329 0.51454286 0.24453364 0.62710732 0.        ]\n",
      " [0.         0.93553373 0.28294576 0.01383507 0.62596739 0.        ]\n",
      " [0.         0.50861795 0.78121749 0.20533734 0.26891731 0.        ]\n",
      " [0.         0.         0.         0.         0.         0.        ]]\n"
     ]
    }
   ],
   "source": [
    "##Ques:-3. Create a 4x4 NumPy array with random float values. Add a border of zeros around it, resulting in a 6x6 array.\n",
    "#Ans:-Let's Create a 4x4 NumPy array with random float values and then add a border of zeros around it to make it a 6x6 array:-\n",
    "\n",
    "import numpy as np\n",
    "\n",
    "# Create a 4x4 array with random float values between 0 and 1\n",
    "array = np.random.rand(4, 4)\n",
    "\n",
    "print(\"Original 4x4 array:\")\n",
    "print(array)\n",
    "\n",
    "# Add a border of zeros to create a 6x6 array\n",
    "bordered_array = np.pad(array, pad_width=1, mode='constant')\n",
    "\n",
    "print(\"\\n6x6 array with zeros border:\")\n",
    "print(bordered_array)"
   ]
  },
  {
   "cell_type": "code",
   "execution_count": 4,
   "id": "6ee487c9-69c4-4941-9252-4858d346ab68",
   "metadata": {},
   "outputs": [
    {
     "name": "stdout",
     "output_type": "stream",
     "text": [
      "Generated array:\n",
      "[10 15 20 25 30 35 40 45 50 55 60]\n"
     ]
    }
   ],
   "source": [
    "##Ques:-4. Using NumPy, create an array of integers from 10 to 60 with a step of 5.\n",
    "#Ans:-Let's Create an array of integers from 10 to 60 with a step of 5:-\n",
    "\n",
    "import numpy as np\n",
    "\n",
    "# Create the array\n",
    "my_array = np.arange(10, 61, 5)\n",
    "\n",
    "print(\"Generated array:\")\n",
    "print(my_array)"
   ]
  },
  {
   "cell_type": "code",
   "execution_count": 10,
   "id": "1427fc2d-37e0-411e-8716-2306fe66672b",
   "metadata": {},
   "outputs": [
    {
     "name": "stdout",
     "output_type": "stream",
     "text": [
      "Original array: ['python' 'numpy' 'pandas']\n",
      "Uppercase array: ['PYTHON' 'NUMPY' 'PANDAS']\n",
      "Lowercase array: ['python' 'numpy' 'pandas']\n",
      "Title case array: ['Python' 'Numpy' 'Pandas']\n"
     ]
    }
   ],
   "source": [
    "##Ques:- 5. Create a NumPy array of strings ['python', 'numpy', 'pandas']. Apply different case transformations (uppercase, lowercase, title case, etc.) to each element.\n",
    "#Ans:-Let's Create a NumPy array of strings ['python', 'numpy', 'pandas'] and apply various case transformations to each element:-\n",
    "\n",
    "import numpy as np\n",
    "\n",
    "# Create the array\n",
    "string_array = np.array(['python', 'numpy', 'pandas'])\n",
    "\n",
    "# Uppercase\n",
    "uppercase_array = np.char.upper(string_array)\n",
    "\n",
    "# Lowercase\n",
    "lowercase_array = np.char.lower(string_array)\n",
    "\n",
    "# Title case\n",
    "titlecase_array = np.char.title(string_array)\n",
    "\n",
    "print(\"Original array:\", string_array)\n",
    "print(\"Uppercase array:\", uppercase_array)\n",
    "print(\"Lowercase array:\", lowercase_array)\n",
    "print(\"Title case array:\", titlecase_array)"
   ]
  },
  {
   "cell_type": "code",
   "execution_count": 9,
   "id": "8f6425f3-cff5-473e-88b7-855932fc68dc",
   "metadata": {},
   "outputs": [
    {
     "name": "stdout",
     "output_type": "stream",
     "text": [
      "Original array:\n",
      "['hello' 'world' 'numpy' 'array']\n",
      "\n",
      "Words with spaces between characters:\n",
      "['h e l l o' 'w o r l d' 'n u m p y' 'a r r a y']\n"
     ]
    }
   ],
   "source": [
    "##Ques:- 6. Generate a NumPy array of words. Insert a space between each character of every word in the array.\n",
    "#Ans:- Let's Generate a NumPy array of words and insert a space between each character of every word in the array:\n",
    "\n",
    "import numpy as np\n",
    "\n",
    "# Create a NumPy array of words\n",
    "words = np.array([\"hello\", \"world\", \"numpy\", \"array\"])\n",
    "\n",
    "# Insert a space between each character of every word\n",
    "spaced_words = np.char.join(\" \", words)\n",
    "\n",
    "print(\"Original array:\")\n",
    "print(words)\n",
    "print(\"\\nWords with spaces between characters:\")\n",
    "print(spaced_words)"
   ]
  },
  {
   "cell_type": "code",
   "execution_count": 8,
   "id": "c03d6b17-54f7-4b12-a3e6-e91280b859d0",
   "metadata": {},
   "outputs": [
    {
     "name": "stdout",
     "output_type": "stream",
     "text": [
      "Array 1:\n",
      " [[1 2 3]\n",
      " [4 5 6]]\n",
      "Array 2:\n",
      " [[ 7  8  9]\n",
      " [10 11 12]]\n",
      "Addition:\n",
      " [[ 8 10 12]\n",
      " [14 16 18]]\n",
      "Subtraction:\n",
      " [[-6 -6 -6]\n",
      " [-6 -6 -6]]\n",
      "Multiplication:\n",
      " [[ 7 16 27]\n",
      " [40 55 72]]\n",
      "Division:\n",
      " [[0.14285714 0.25       0.33333333]\n",
      " [0.4        0.45454545 0.5       ]]\n"
     ]
    }
   ],
   "source": [
    "##Ques:- 7. Create two 2D NumPy arrays and perform element-wise addition, subtraction, multiplication, and division.\n",
    "#Ans:-Example of using NumPy to create two 2D arrays and perform element-wise arithmetic operations:-\n",
    "\n",
    "import numpy as np\n",
    "\n",
    "# Create two 2D arrays\n",
    "array1 = np.array([[1, 2, 3], [4, 5, 6]])\n",
    "array2 = np.array([[7, 8, 9], [10, 11, 12]])\n",
    "\n",
    "# Element-wise addition\n",
    "addition = array1 + array2\n",
    "\n",
    "# Element-wise subtraction\n",
    "subtraction = array1 - array2\n",
    "\n",
    "# Element-wise multiplication\n",
    "multiplication = array1 * array2\n",
    "\n",
    "# Element-wise division\n",
    "division = array1 / array2\n",
    "\n",
    "print(\"Array 1:\\n\", array1)\n",
    "print(\"Array 2:\\n\", array2)\n",
    "print(\"Addition:\\n\", addition)\n",
    "print(\"Subtraction:\\n\", subtraction)\n",
    "print(\"Multiplication:\\n\", multiplication)\n",
    "print(\"Division:\\n\", division)\n"
   ]
  },
  {
   "cell_type": "code",
   "execution_count": 7,
   "id": "a993b754-e7cd-412c-bbfe-e3beb2b01680",
   "metadata": {},
   "outputs": [
    {
     "name": "stdout",
     "output_type": "stream",
     "text": [
      "Identity Matrix:\n",
      "[[1. 0. 0. 0. 0.]\n",
      " [0. 1. 0. 0. 0.]\n",
      " [0. 0. 1. 0. 0.]\n",
      " [0. 0. 0. 1. 0.]\n",
      " [0. 0. 0. 0. 1.]]\n",
      "\n",
      "Diagonal Elements:\n",
      "[1. 1. 1. 1. 1.]\n"
     ]
    }
   ],
   "source": [
    "##Ques:- 8. Use NumPy to create a 5x5 identity matrix, then extract its diagonal elements.\n",
    "#Ans:-Let's Use NumPy to create a 5x5 identity matrix, then extract its diagonal elements.\n",
    "\n",
    "import numpy as np\n",
    "\n",
    "# Create a 5x5 identity matrix\n",
    "identity_matrix = np.identity(5)\n",
    "\n",
    "# Extract the diagonal elements\n",
    "diagonal_elements = np.diag(identity_matrix)\n",
    "\n",
    "print(\"Identity Matrix:\")\n",
    "print(identity_matrix)\n",
    "print(\"\\nDiagonal Elements:\")\n",
    "print(diagonal_elements)\n"
   ]
  },
  {
   "cell_type": "code",
   "execution_count": 6,
   "id": "ff47bc0d-10f0-42c7-8d53-26c21a920560",
   "metadata": {},
   "outputs": [
    {
     "name": "stdout",
     "output_type": "stream",
     "text": [
      "Random Array: [411 190  84 110 521 263  40 214 505 265 883 366 547 388 707 867 222  41\n",
      " 425 326 977 107 520 987 702  64 422   3 480 544 139 231 533 933  14 942\n",
      " 242 150 769  76 340 375 888 189 910 108 279 112 449 576 751 369 473 143\n",
      " 951 460 508 874 915 747 131 134 762 977 357 212 197 877 592 393 294 653\n",
      " 874 930 409 989 148 113 930  25 403 298 590 568 844  54 453 703 163 356\n",
      " 865 941 339 185 843 562 902 854 267 978]\n",
      "Prime Numbers: [521, 263, 883, 547, 41, 977, 107, 3, 139, 769, 449, 751, 131, 977, 197, 877, 653, 409, 113, 163, 941]\n"
     ]
    }
   ],
   "source": [
    "##Ques:-9. Generate a NumPy array of 100 random integers between 0 and 1000. Find and display all prime numbers in this array.\n",
    "#Ans:-Let's Generates a NumPy array of 100 random integers between 0 and 1000, and then finds and displays all the prime numbers in this array:-\n",
    "import numpy as np\n",
    "\n",
    "# Function to check if a number is prime\n",
    "def is_prime(n):\n",
    "    if n <= 1:\n",
    "        return False\n",
    "    for i in range(2, int(np.sqrt(n)) + 1):\n",
    "        if n % i == 0:\n",
    "            return False\n",
    "    return True\n",
    "\n",
    "# Generate a NumPy array of 100 random integers between 0 and 1000\n",
    "random_array = np.random.randint(0, 1000, 100)\n",
    "\n",
    "# Find all prime numbers in the array\n",
    "prime_numbers = [num for num in random_array if is_prime(num)]\n",
    "\n",
    "print(\"Random Array:\", random_array)\n",
    "print(\"Prime Numbers:\", prime_numbers)"
   ]
  },
  {
   "cell_type": "code",
   "execution_count": 5,
   "id": "11246869-5220-4f8d-9b7a-a508184773b5",
   "metadata": {},
   "outputs": [
    {
     "name": "stdout",
     "output_type": "stream",
     "text": [
      "Daily Temperatures: [25 38 28 36 32 32 21 27 35 28 24 20 38 21 23 34 25 29 31 21 22 31 37 20\n",
      " 34 34 22 20 36 34]\n",
      "Weekly Averages: [30.285714285714285, 27.571428571428573, 26.428571428571427, 28.285714285714285, 35.0]\n"
     ]
    }
   ],
   "source": [
    "##Ques:- 10. Create a NumPy array representing daily temperatures for a month. Calculate and display the weekly averages.\n",
    "#Ans:-Let's Create a NumPy array representing daily temperatures for a month and then calculate the weekly averages.\n",
    "\n",
    "#Create a NumPy array for daily temperatures: We’ll assume the temperatures are in degrees Celsius and randomly generate them for simplicity.\n",
    "#Calculate the weekly averages: We’ll divide the month into weeks and compute the average temperature for each week.\n",
    "\n",
    "import numpy as np\n",
    "\n",
    "# Generate random daily temperatures for a month (30 days)\n",
    "daily_temperatures = np.random.randint(20, 40, size=30)\n",
    "\n",
    "# Calculate weekly averages\n",
    "weekly_averages = [np.mean(daily_temperatures[i:i+7]) for i in range(0, len(daily_temperatures), 7)]\n",
    "\n",
    "# Display the results\n",
    "print(\"Daily Temperatures:\", daily_temperatures)\n",
    "print(\"Weekly Averages:\", weekly_averages)"
   ]
  },
  {
   "cell_type": "code",
   "execution_count": null,
   "id": "bd578a3b-ae1e-40c8-8df0-7e518ab93712",
   "metadata": {},
   "outputs": [],
   "source": []
  },
  {
   "cell_type": "code",
   "execution_count": null,
   "id": "78982178-5178-434d-900b-e73ac790b3f6",
   "metadata": {},
   "outputs": [],
   "source": []
  }
 ],
 "metadata": {
  "kernelspec": {
   "display_name": "Python 3 (ipykernel)",
   "language": "python",
   "name": "python3"
  },
  "language_info": {
   "codemirror_mode": {
    "name": "ipython",
    "version": 3
   },
   "file_extension": ".py",
   "mimetype": "text/x-python",
   "name": "python",
   "nbconvert_exporter": "python",
   "pygments_lexer": "ipython3",
   "version": "3.10.8"
  }
 },
 "nbformat": 4,
 "nbformat_minor": 5
}
